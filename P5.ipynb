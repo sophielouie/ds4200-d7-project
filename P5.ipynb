{
 "cells": [
  {
   "cell_type": "code",
   "execution_count": 23,
   "id": "6402fc6e-6152-4a4e-a740-b73d839a3a61",
   "metadata": {
    "tags": []
   },
   "outputs": [
    {
     "data": {
      "text/plain": [
       "DataTransformerRegistry.enable('default')"
      ]
     },
     "execution_count": 23,
     "metadata": {},
     "output_type": "execute_result"
    }
   ],
   "source": [
    "import pandas as pd\n",
    "import matplotlib.pyplot as plt\n",
    "import numpy as np\n",
    "import math\n",
    "import altair as alt\n",
    "import squarify\n",
    "import geopandas as gpd\n",
    "import json\n",
    "from collections import defaultdict\n",
    "alt.data_transformers.disable_max_rows()"
   ]
  },
  {
   "cell_type": "code",
   "execution_count": 2,
   "id": "3b0af21b-5658-4cb1-8394-307109da13e8",
   "metadata": {
    "tags": []
   },
   "outputs": [],
   "source": [
    "data_2022 = pd.read_csv(\"Data/2022.csv\", usecols=['INCIDENT_NUMBER', 'DISTRICT', 'CATEGORY'], dtype={'INCIDENT_NUMBER':str, 'DISTRICT':str, 'CATEGORY':str})\n",
    "rox_2022 = data_2022.loc[data_2022['DISTRICT'] == 'B2']\n",
    "fen_2022 = data_2022.loc[data_2022['DISTRICT'] == 'D4']\n",
    "df_rox_2022 = rox_2022.groupby(['CATEGORY'])['INCIDENT_NUMBER'].count()\n",
    "df_rox_2022 = df_rox_2022.sort_values(ascending=False)\n",
    "rox_values_2022_sorted = squarify.normalize_sizes(df_rox_2022, 1000, 1000)\n",
    "df_fenway_2022 = fen_2022.groupby(['CATEGORY'])['INCIDENT_NUMBER'].count()\n",
    "df_fenway_2022_sorted = df_fenway_2022.sort_values(ascending=False)\n",
    "fenway_values_2022_sorted = squarify.normalize_sizes(df_fenway_2022, 1000, 1000)"
   ]
  },
  {
   "cell_type": "code",
   "execution_count": 3,
   "id": "6c6c963c-308a-4027-8539-1e031832167c",
   "metadata": {
    "tags": []
   },
   "outputs": [],
   "source": [
    "output_json = pd.DataFrame(squarify.padded_squarify(sizes=rox_values_2022_sorted, x=0, y=0, dx=1000, dy=1000))\n",
    "output_json.insert(0, \"Incident Count\", df_rox_2022.array)\n",
    "output_json.insert(0, \"Category\", df_rox_2022.keys())\n",
    "output_json[\"x2\"] = output_json[\"x\"] + output_json[\"dx\"]\n",
    "output_json[\"y2\"] = output_json[\"y\"] + output_json[\"dy\"]\n"
   ]
  },
  {
   "cell_type": "code",
   "execution_count": 4,
   "id": "4eb9adb1-ce32-4d07-b84e-53f0e3997926",
   "metadata": {
    "tags": []
   },
   "outputs": [
    {
     "data": {
      "text/html": [
       "\n",
       "<div id=\"altair-viz-945935b8ba24428994498a11a4132c40\"></div>\n",
       "<script type=\"text/javascript\">\n",
       "  var VEGA_DEBUG = (typeof VEGA_DEBUG == \"undefined\") ? {} : VEGA_DEBUG;\n",
       "  (function(spec, embedOpt){\n",
       "    let outputDiv = document.currentScript.previousElementSibling;\n",
       "    if (outputDiv.id !== \"altair-viz-945935b8ba24428994498a11a4132c40\") {\n",
       "      outputDiv = document.getElementById(\"altair-viz-945935b8ba24428994498a11a4132c40\");\n",
       "    }\n",
       "    const paths = {\n",
       "      \"vega\": \"https://cdn.jsdelivr.net/npm/vega@5?noext\",\n",
       "      \"vega-lib\": \"https://cdn.jsdelivr.net/npm/vega-lib?noext\",\n",
       "      \"vega-lite\": \"https://cdn.jsdelivr.net/npm/vega-lite@5.6.1?noext\",\n",
       "      \"vega-embed\": \"https://cdn.jsdelivr.net/npm/vega-embed@6?noext\",\n",
       "    };\n",
       "\n",
       "    function maybeLoadScript(lib, version) {\n",
       "      var key = `${lib.replace(\"-\", \"\")}_version`;\n",
       "      return (VEGA_DEBUG[key] == version) ?\n",
       "        Promise.resolve(paths[lib]) :\n",
       "        new Promise(function(resolve, reject) {\n",
       "          var s = document.createElement('script');\n",
       "          document.getElementsByTagName(\"head\")[0].appendChild(s);\n",
       "          s.async = true;\n",
       "          s.onload = () => {\n",
       "            VEGA_DEBUG[key] = version;\n",
       "            return resolve(paths[lib]);\n",
       "          };\n",
       "          s.onerror = () => reject(`Error loading script: ${paths[lib]}`);\n",
       "          s.src = paths[lib];\n",
       "        });\n",
       "    }\n",
       "\n",
       "    function showError(err) {\n",
       "      outputDiv.innerHTML = `<div class=\"error\" style=\"color:red;\">${err}</div>`;\n",
       "      throw err;\n",
       "    }\n",
       "\n",
       "    function displayChart(vegaEmbed) {\n",
       "      vegaEmbed(outputDiv, spec, embedOpt)\n",
       "        .catch(err => showError(`Javascript Error: ${err.message}<br>This usually means there's a typo in your chart specification. See the javascript console for the full traceback.`));\n",
       "    }\n",
       "\n",
       "    if(typeof define === \"function\" && define.amd) {\n",
       "      requirejs.config({paths});\n",
       "      require([\"vega-embed\"], displayChart, err => showError(`Error loading script: ${err.message}`));\n",
       "    } else {\n",
       "      maybeLoadScript(\"vega\", \"5\")\n",
       "        .then(() => maybeLoadScript(\"vega-lite\", \"5.6.1\"))\n",
       "        .then(() => maybeLoadScript(\"vega-embed\", \"6\"))\n",
       "        .catch(showError)\n",
       "        .then(() => displayChart(vegaEmbed));\n",
       "    }\n",
       "  })({\"config\": {\"view\": {\"continuousWidth\": 300, \"continuousHeight\": 300}}, \"data\": {\"name\": \"data-88af481c8b5d8df7a54dc7eb9df0375f\"}, \"mark\": {\"type\": \"rect\"}, \"encoding\": {\"color\": {\"field\": \"Category\", \"sort\": {\"field\": \"Incident Count\", \"order\": \"descending\"}, \"type\": \"nominal\"}, \"x\": {\"axis\": null, \"field\": \"x\", \"type\": \"quantitative\"}, \"x2\": {\"field\": \"x2\"}, \"y\": {\"axis\": null, \"field\": \"y\", \"type\": \"quantitative\"}, \"y2\": {\"field\": \"y2\"}}, \"height\": 1000, \"width\": 1000, \"$schema\": \"https://vega.github.io/schema/vega-lite/v5.6.1.json\", \"datasets\": {\"data-88af481c8b5d8df7a54dc7eb9df0375f\": [{\"Category\": \"Suspicious Activity\", \"Incident Count\": 1691, \"x\": 1.0, \"y\": 1.0, \"dx\": 373.7352208154721, \"dy\": 446.66012204828866, \"x2\": 374.7352208154721, \"y2\": 447.66012204828866}, {\"Category\": \"Sick Assist\", \"Incident Count\": 1069, \"x\": 1.0, \"y\": 449.66012204828866, \"dx\": 373.7352208154721, \"dy\": 281.62960997612095, \"x2\": 374.7352208154721, \"y2\": 731.2897320244097}, {\"Category\": \"Accidental Injury\", \"Incident Count\": 1009, \"x\": 1.0, \"y\": 733.2897320244097, \"dx\": 373.7352208154721, \"dy\": 265.71026797559034, \"x2\": 374.7352208154721, \"y2\": 999.0}, {\"Category\": \"Larceny\", \"Incident Count\": 901, \"x\": 376.7352208154721, \"y\": 1.0, \"dx\": 354.4401559222178, \"dy\": 249.99616735867136, \"x2\": 731.1753767376899, \"y2\": 250.99616735867136}, {\"Category\": \"Hit and Run\", \"Incident Count\": 677, \"x\": 733.1753767376899, \"y\": 1.0, \"dx\": 265.8246232623102, \"dy\": 249.99616735867136, \"x2\": 999.0000000000001, \"y2\": 250.99616735867136}, {\"Category\": \"Assault\", \"Incident Count\": 595, \"x\": 376.7352208154721, \"y\": 252.99616735867136, \"dx\": 253.10820303213882, \"dy\": 230.513573938039, \"x2\": 629.8434238476109, \"y2\": 483.50974129671033}, {\"Category\": \"Vandalism\", \"Incident Count\": 469, \"x\": 631.8434238476109, \"y\": 252.99616735867136, \"dx\": 199.08528944886234, \"dy\": 230.513573938039, \"x2\": 830.9287132964732, \"y2\": 483.50974129671033}, {\"Category\": \"Misc\", \"Incident Count\": 392, \"x\": 832.9287132964732, \"y\": 252.99616735867136, \"dx\": 166.07128670352674, \"dy\": 230.513573938039, \"x2\": 999.0, \"y2\": 483.50974129671033}, {\"Category\": \"Towed Vehicle\", \"Incident Count\": 354, \"x\": 376.7352208154721, \"y\": 485.50974129671033, \"dx\": 193.3244817151094, \"dy\": 178.67678374352926, \"x2\": 570.0597025305815, \"y2\": 664.1865250402395}, {\"Category\": \"Property Loss / Damage\", \"Incident Count\": 341, \"x\": 376.7352208154721, \"y\": 666.1865250402395, \"dx\": 193.3244817151094, \"dy\": 172.04176061170475, \"x2\": 570.0597025305815, \"y2\": 838.2282856519442}, {\"Category\": \"Missing Person\", \"Incident Count\": 315, \"x\": 376.7352208154721, \"y\": 840.2282856519442, \"dx\": 193.3244817151094, \"dy\": 158.7717143480557, \"x2\": 570.0597025305815, \"y2\": 999.0}, {\"Category\": \"Suicide/Self Harm\", \"Incident Count\": 250, \"x\": 572.0597025305815, \"y\": 485.50974129671033, \"dx\": 156.39745105960802, \"dy\": 155.3430591262972, \"x2\": 728.4571535901895, \"y2\": 640.8528004230075}, {\"Category\": \"Auto Law Violation\", \"Incident Count\": 234, \"x\": 730.4571535901895, \"y\": 485.50974129671033, \"dx\": 146.2600141917931, \"dy\": 155.3430591262972, \"x2\": 876.7171677819825, \"y2\": 640.8528004230075}, {\"Category\": \"Fraud\", \"Incident Count\": 193, \"x\": 878.7171677819825, \"y\": 485.50974129671033, \"dx\": 120.28283221801738, \"dy\": 155.3430591262972, \"x2\": 998.9999999999999, \"y2\": 640.8528004230075}, {\"Category\": \"Alcohol & Narcotics\", \"Incident Count\": 192, \"x\": 572.0597025305815, \"y\": 642.8528004230075, \"dx\": 148.8667366829493, \"dy\": 124.87133269148073, \"x2\": 720.9264392135308, \"y2\": 767.7241331144882}, {\"Category\": \"Firearm Related \", \"Incident Count\": 191, \"x\": 572.0597025305815, \"y\": 769.7241331144882, \"dx\": 148.8667366829493, \"dy\": 124.21054450037927, \"x2\": 720.9264392135308, \"y2\": 893.9346776148674}, {\"Category\": \"Auto Theft\", \"Incident Count\": 159, \"x\": 572.0597025305815, \"y\": 895.9346776148674, \"dx\": 148.8667366829493, \"dy\": 103.06532238513249, \"x2\": 720.9264392135308, \"y2\": 998.9999999999999}, {\"Category\": \"Harassment\", \"Incident Count\": 151, \"x\": 722.9264392135308, \"y\": 642.8528004230075, \"dx\": 145.330202381603, \"dy\": 100.17412600544833, \"x2\": 868.2566415951337, \"y2\": 743.0269264284558}, {\"Category\": \"Reported Death\", \"Incident Count\": 134, \"x\": 870.2566415951337, \"y\": 642.8528004230075, \"dx\": 128.74335840486623, \"dy\": 100.17412600544833, \"x2\": 999.0, \"y2\": 743.0269264284558}, {\"Category\": \"Breaking & Entering\", \"Incident Count\": 111, \"x\": 722.9264392135308, \"y\": 745.0269264284558, \"dx\": 112.11141920229062, \"dy\": 94.97273435645529, \"x2\": 835.0378584158213, \"y2\": 839.999660784911}, {\"Category\": \"Warrant Issuance / Execution\", \"Incident Count\": 100, \"x\": 722.9264392135308, \"y\": 841.999660784911, \"dx\": 112.11141920229062, \"dy\": 85.36282374455432, \"x2\": 835.0378584158213, \"y2\": 927.3624845294654}, {\"Category\": \"Robbery\", \"Incident Count\": 82, \"x\": 722.9264392135308, \"y\": 929.3624845294654, \"dx\": 112.11141920229062, \"dy\": 69.63751547053455, \"x2\": 835.0378584158213, \"y2\": 999.0}, {\"Category\": \"Trespassing\", \"Incident Count\": 71, \"x\": 837.0378584158213, \"y\": 745.0269264284558, \"dx\": 79.9810707920893, \"dy\": 84.3377112759128, \"x2\": 917.0189292079107, \"y2\": 829.3646377043685}, {\"Category\": \"Tenant Disputte\", \"Incident Count\": 71, \"x\": 919.0189292079107, \"y\": 745.0269264284558, \"dx\": 79.9810707920893, \"dy\": 84.3377112759128, \"x2\": 999.0, \"y2\": 829.3646377043685}, {\"Category\": \"Fire\", \"Incident Count\": 61, \"x\": 837.0378584158213, \"y\": 831.3646377043685, \"dx\": 83.4845353558538, \"dy\": 69.13740999494223, \"x2\": 920.5223937716752, \"y2\": 900.5020476993108}, {\"Category\": \"Stolen Property Recovery\", \"Incident Count\": 56, \"x\": 922.5223937716752, \"y\": 831.3646377043685, \"dx\": 76.4776062283248, \"dy\": 69.13740999494223, \"x2\": 999.0, \"y2\": 900.5020476993108}, {\"Category\": \"Noise Complaint\", \"Incident Count\": 53, \"x\": 837.0378584158213, \"y\": 902.5020476993108, \"dx\": 51.64193520963875, \"dy\": 96.49795230068912, \"x2\": 888.6797936254601, \"y2\": 998.9999999999999}, {\"Category\": \"Animal Related\", \"Incident Count\": 30, \"x\": 890.6797936254601, \"y\": 902.5020476993108, \"dx\": 43.54503932893856, \"dy\": 63.66530153379274, \"x2\": 934.2248329543986, \"y2\": 966.1673492331036}, {\"Category\": \"Stolen Property\", \"Incident Count\": 15, \"x\": 890.6797936254601, \"y\": 968.1673492331036, \"dx\": 43.54503932893856, \"dy\": 30.83265076689637, \"x2\": 934.2248329543986, \"y2\": 998.9999999999999}, {\"Category\": \"Liquor License Violation\", \"Incident Count\": 14, \"x\": 936.2248329543986, \"y\": 902.5020476993108, \"dx\": 37.42836254949644, \"dy\": 33.39770160806027, \"x2\": 973.6531955038951, \"y2\": 935.899749307371}, {\"Category\": \"Intoxicated Driving\", \"Incident Count\": 9, \"x\": 975.6531955038951, \"y\": 902.5020476993108, \"dx\": 23.346804496104856, \"dy\": 33.39770160806027, \"x2\": 998.9999999999999, \"y2\": 935.899749307371}, {\"Category\": \"Fugitive\", \"Incident Count\": 9, \"x\": 936.2248329543986, \"y\": 937.899749307371, \"dx\": 24.85799609207872, \"dy\": 31.406015072568216, \"x2\": 961.0828290464773, \"y2\": 969.3057643799393}, {\"Category\": \"Manslaughter\", \"Incident Count\": 8, \"x\": 936.2248329543986, \"y\": 971.3057643799393, \"dx\": 24.85799609207872, \"dy\": 27.69423562006064, \"x2\": 961.0828290464773, \"y2\": 999.0}, {\"Category\": \"Terrorism\", \"Incident Count\": 6, \"x\": 963.0828290464773, \"y\": 937.899749307371, \"dx\": 18.68209324737595, \"dy\": 26.92094823412181, \"x2\": 981.7649222938533, \"y2\": 964.8206975414929}, {\"Category\": \"Arson\", \"Incident Count\": 5, \"x\": 983.7649222938533, \"y\": 937.899749307371, \"dx\": 15.235077706146622, \"dy\": 26.92094823412181, \"x2\": 998.9999999999999, \"y2\": 964.8206975414929}, {\"Category\": \"Hazardous Condition\", \"Incident Count\": 4, \"x\": 963.0828290464773, \"y\": 966.8206975414929, \"dx\": 18.41693820574325, \"dy\": 17.53102997628974, \"x2\": 981.4997672522205, \"y2\": 984.3517275177826}, {\"Category\": \"Extortion\", \"Incident Count\": 3, \"x\": 963.0828290464773, \"y\": 986.3517275177826, \"dx\": 18.41693820574325, \"dy\": 12.648272482217305, \"x2\": 981.4997672522205, \"y2\": 998.9999999999999}, {\"Category\": \"Witness Intimidation\", \"Incident Count\": 3, \"x\": 983.4997672522205, \"y\": 966.8206975414929, \"dx\": 15.500232747779322, \"dy\": 15.089651229254116, \"x2\": 998.9999999999999, \"y2\": 981.9103487707471}, {\"Category\": \"Prostitution\", \"Incident Count\": 1, \"x\": 983.4997672522205, \"y\": 983.9103487707471, \"dx\": 9.66682183185369, \"dy\": 6.544825614626465, \"x2\": 993.1665890840742, \"y2\": 990.4551743853735}, {\"Category\": \"Prison Escape Attempt\", \"Incident Count\": 1, \"x\": 983.4997672522205, \"y\": 992.4551743853735, \"dx\": 9.66682183185369, \"dy\": 6.544825614626465, \"x2\": 993.1665890840742, \"y2\": 999.0}, {\"Category\": \"Child Requiring Assistance\", \"Incident Count\": 1, \"x\": 995.1665890840742, \"y\": 983.9103487707471, \"dx\": 3.833410915925631, \"dy\": 15.089651229256486, \"x2\": 998.9999999999998, \"y2\": 999.0000000000035}]}}, {\"mode\": \"vega-lite\"});\n",
       "</script>"
      ],
      "text/plain": [
       "alt.Chart(...)"
      ]
     },
     "execution_count": 4,
     "metadata": {},
     "output_type": "execute_result"
    }
   ],
   "source": [
    "alt.Chart(output_json).mark_rect().encode(\n",
    "    x=alt.X('x:Q', axis=None),\n",
    "    x2='x2:Q',\n",
    "    y=alt.Y('y:Q', axis=None),\n",
    "    y2='y2:Q',\n",
    "    color=alt.Color(\"Category\", type=\"nominal\", sort=alt.EncodingSortField(field=\"Incident Count\", order=\"descending\"))\n",
    ").properties(\n",
    "    width=1000,\n",
    "    height=1000\n",
    ")"
   ]
  },
  {
   "cell_type": "code",
   "execution_count": 5,
   "id": "c39f3dd0-619d-4cd3-8d5a-4a68203b9e58",
   "metadata": {
    "tags": []
   },
   "outputs": [
    {
     "name": "stderr",
     "output_type": "stream",
     "text": [
      "/Library/Frameworks/Python.framework/Versions/3.11/lib/python3.11/site-packages/pyproj/crs/crs.py:141: FutureWarning: '+init=<authority>:<code>' syntax is deprecated. '<authority>:<code>' is the preferred initialization method. When making the change, be mindful of axis order changes: https://pyproj4.github.io/pyproj/stable/gotchas.html#axis-order-changes-in-proj-6\n",
      "  in_crs_string = _prepare_from_proj_string(in_crs_string)\n",
      "/Library/Frameworks/Python.framework/Versions/3.11/lib/python3.11/site-packages/pyproj/crs/crs.py:141: FutureWarning: '+init=<authority>:<code>' syntax is deprecated. '<authority>:<code>' is the preferred initialization method. When making the change, be mindful of axis order changes: https://pyproj4.github.io/pyproj/stable/gotchas.html#axis-order-changes-in-proj-6\n",
      "  in_crs_string = _prepare_from_proj_string(in_crs_string)\n"
     ]
    }
   ],
   "source": [
    "capital_plan = pd.read_excel('Data/23R Capital Plan 4.13.22.xlsx')\n",
    "boston_map = gpd.read_file(\"Data/city-council-districts.geojson\")\n",
    "\n",
    "single_selection = alt.selection_point()\n",
    "\n",
    "## bugfix taken from https://github.com/altair-viz/altair/issues/1612\n",
    "boston_map.crs = {'init' :'epsg:27700'}\n",
    "boston_map = boston_map.to_crs({'init': 'epsg:4326'})\n",
    "choro_json = json.loads(boston_map.to_json())\n",
    "boston_chart = alt.Chart(boston_map).mark_geoshape(\n",
    "    strokeWidth=1,\n",
    "    fill='none',\n",
    "    fillOpacity=0,\n",
    "    stroke='black'\n",
    ").encode().properties(\n",
    "    width=800,\n",
    "    height=800\n",
    ")\n",
    "\n",
    "neighborhoods_map = gpd.read_file(\"Data/boston-neighborhoods.geojson\");\n",
    "neighborhoods_map.crs = {'init' :'epsg:27700'}\n",
    "neighborhoods_map = neighborhoods_map.to_crs({'init': 'epsg:4326'})\n",
    "choro_json = json.loads(neighborhoods_map.to_json())\n",
    "neighborhoods_chart = alt.Chart(neighborhoods_map, title=\"Boston Districts by Total Budget\").mark_geoshape(\n",
    "    stroke='black',\n",
    "    strokeWidth=.2,\n",
    ").encode(\n",
    "    color=alt.condition(single_selection, 'Name:N', alt.value('lightgray'))\n",
    ").properties(\n",
    "    width=800,\n",
    "    height=800\n",
    ").add_params(\n",
    "    single_selection\n",
    ");\n",
    "\n",
    "base = alt.Chart(capital_plan).mark_bar().encode(\n",
    "    x='Neighborhood',\n",
    "    y='sum(Total_Project_Budget):Q',\n",
    ").encode(\n",
    "    color=alt.condition(single_selection, 'Neighborhood', alt.value('lightgray')),\n",
    "    tooltip=alt.Tooltip(\"sum(Total_Project_Budget)\", format=\"$,.2f\"),\n",
    ").add_params(\n",
    "    single_selection\n",
    ");"
   ]
  },
  {
   "cell_type": "code",
   "execution_count": null,
   "id": "937e0c1d-34f8-45a9-8e3e-5f3ade51908b",
   "metadata": {
    "tags": []
   },
   "outputs": [],
   "source": [
    "alt.vconcat(neighborhoods_chart + boston_chart, base)"
   ]
  },
  {
   "cell_type": "code",
   "execution_count": 48,
   "id": "2fbc77bc",
   "metadata": {},
   "outputs": [],
   "source": [
    "# create dictionary mapping offense group to offense codes for csv that do not contain offense groups\n",
    "df = pd.read_csv('Data/crime 2018.csv')\n",
    "\n",
    "offense_group_dict = dict()\n",
    "\n",
    "for code in df['OFFENSE_CODE'].unique():\n",
    "    # get a row with the corresponding code\n",
    "    single_row = df.loc[df['OFFENSE_CODE'] == code].iloc[0]\n",
    "    group = single_row['OFFENSE_CODE_GROUP']\n",
    "    \n",
    "    offense_group_dict[code] = group"
   ]
  },
  {
   "cell_type": "code",
   "execution_count": 62,
   "id": "6aeabcc1",
   "metadata": {},
   "outputs": [],
   "source": [
    "def extract_crime_comparison(early_crime, later_crime):\n",
    "    if (type(early_crime) == str):\n",
    "        early_crime = pd.read_csv(early_crime,\n",
    "                                  usecols=['INCIDENT_NUMBER', 'DISTRICT', 'OFFENSE_CODE_GROUP'],\n",
    "                                  dtype={'INCIDENT_NUMBER':str, 'DISTRICT':str, 'OFFENSE_CODE_GROUP':str})\n",
    "    if (type(later_crime) == str):\n",
    "        later_crime = pd.read_csv(later_crime,\n",
    "                                  usecols=['INCIDENT_NUMBER', 'DISTRICT', 'OFFENSE_CODE_GROUP'],\n",
    "                                  dtype={'INCIDENT_NUMBER':str, 'DISTRICT':str, 'OFFENSE_CODE_GROUP':str})\n",
    "    \n",
    "    # get early roxbury data\n",
    "    early_crime = early_crime.loc[early_crime['DISTRICT'] == 'B2']\n",
    "    early_crime = early_crime.groupby(['OFFENSE_CODE_GROUP'])['INCIDENT_NUMBER'].count()\n",
    "    early_crime = early_crime.sort_values(ascending=False)\n",
    "    \n",
    "    # print(early_crime)\n",
    "    \n",
    "    # get later roxbury data\n",
    "    later_crime = later_crime.loc[later_crime['DISTRICT'] == 'B2']\n",
    "    later_crime = later_crime.groupby(['OFFENSE_CODE_GROUP'])['INCIDENT_NUMBER'].count()\n",
    "    later_crime = later_crime.sort_values(ascending=False)\n",
    "    \n",
    "\n",
    "    \n",
    "    net_change = pd.DataFrame(later_crime - early_crime)\n",
    "    crime_type_list = ['Aggravated Assault',\n",
    "                       'Larceny',\n",
    "                       'Missing Person Reported',\n",
    "                       'Auto Theft',\n",
    "                       'Harassment', \n",
    "                       'Homicide',\n",
    "                       'Robbery',\n",
    "                       'Residential Burglary',\n",
    "                       'Property Lost']\n",
    "    net_change = net_change.loc[net_change.index.isin(crime_type_list)]\n",
    "    net_change = net_change.reset_index()\n",
    "    net_change.columns = ['CATEGORY', 'Net Change']\n",
    "    \n",
    "    return net_change\n"
   ]
  },
  {
   "cell_type": "code",
   "execution_count": 52,
   "id": "8ffef887",
   "metadata": {
    "collapsed": true
   },
   "outputs": [
    {
     "name": "stderr",
     "output_type": "stream",
     "text": [
      "/var/folders/71/723ncf_d5zl3dj94vpv18m780000gn/T/ipykernel_44816/2852634929.py:1: DtypeWarning: Columns (0) have mixed types. Specify dtype option on import or set low_memory=False.\n",
      "  crime_2019 = pd.read_csv('Data/crime 2019.csv')\n",
      "/var/folders/71/723ncf_d5zl3dj94vpv18m780000gn/T/ipykernel_44816/2852634929.py:4: DtypeWarning: Columns (0) have mixed types. Specify dtype option on import or set low_memory=False.\n",
      "  crime_2020 = pd.read_csv('Data/crime 2020.csv')\n",
      "/var/folders/71/723ncf_d5zl3dj94vpv18m780000gn/T/ipykernel_44816/2852634929.py:7: DtypeWarning: Columns (0) have mixed types. Specify dtype option on import or set low_memory=False.\n",
      "  crime_2021 = pd.read_csv('Data/crime 2021.csv')\n"
     ]
    }
   ],
   "source": [
    "# need to format OFFENSE_CODE_GROUP -> doesn't exist in 2019, 2020, 2021\n",
    "\n",
    "crime_2019 = pd.read_csv('Data/crime 2019.csv')\n",
    "crime_2019['OFFENSE_CODE_GROUP'] = df['OFFENSE_CODE'].map(offense_group_dict)\n",
    "\n",
    "crime_2020 = pd.read_csv('Data/crime 2020.csv')\n",
    "crime_2020['OFFENSE_CODE_GROUP'] = df['OFFENSE_CODE'].map(offense_group_dict)\n",
    "\n",
    "crime_2021 = pd.read_csv('Data/crime 2021.csv')\n",
    "crime_2021['OFFENSE_CODE_GROUP'] = df['OFFENSE_CODE'].map(offense_group_dict)"
   ]
  },
  {
   "cell_type": "code",
   "execution_count": 63,
   "id": "d88f71cc",
   "metadata": {
    "collapsed": true
   },
   "outputs": [
    {
     "name": "stdout",
     "output_type": "stream",
     "text": [
      "is string\n",
      "is string\n",
      "is string\n",
      "is string\n"
     ]
    }
   ],
   "source": [
    "change_2015_2016 = extract_crime_comparison('Data/crime 2015.csv', 'Data/crime 2016.csv')\n",
    "change_2016_2017 = extract_crime_comparison('Data/crime 2016.csv', 'Data/crime 2017.csv')\n",
    "change_2017_2018 = extract_crime_comparison('Data/crime 2017.csv', 'Data/crime 2018.csv')\n",
    "change_2018_2019 = extract_crime_comparison('Data/crime 2018.csv', crime_2019)\n",
    "change_2019_2020 = extract_crime_comparison(crime_2019, crime_2020)\n",
    "change_2020_2021 = extract_crime_comparison(crime_2020, crime_2021)"
   ]
  },
  {
   "cell_type": "code",
   "execution_count": 66,
   "id": "b518aab3-efe7-45f0-8a5a-e25853964586",
   "metadata": {
    "tags": []
   },
   "outputs": [],
   "source": [
    "selection = alt.selection_point()\n",
    "\n",
    "# 2015 to 2016\n",
    "change_from_2015 = alt.Chart(change_2015_2016).mark_bar(point=False).encode(\n",
    "    x='CATEGORY',\n",
    "    y='Net Change',\n",
    "    color = alt.Color('Net Change', scale=alt.Scale(scheme=\"spectral\", reverse=True))\n",
    ").properties(\n",
    "    title='Roxbury change in crime rates from 2015-2016'\n",
    ").add_params(\n",
    "    single_selection\n",
    ")\n",
    "\n",
    "# 2016 to 2017\n",
    "change_from_2016 = alt.Chart(change_2016_2017).mark_bar(point=False).encode(\n",
    "    x='CATEGORY',\n",
    "    y='Net Change',\n",
    "    color = alt.Color('Net Change', scale=alt.Scale(scheme=\"spectral\", reverse=True))\n",
    ").properties(\n",
    "    title='Roxbury change in crime rates from 2016-2017'\n",
    ").add_params(\n",
    "    single_selection\n",
    ")\n",
    "\n",
    "# 2017 to 2018\n",
    "change_from_2017 = alt.Chart(change_2017_2018).mark_bar(point=False).encode(\n",
    "    x='CATEGORY',\n",
    "    y='Net Change',\n",
    "    color = alt.Color('Net Change', scale=alt.Scale(scheme=\"spectral\", reverse=True))\n",
    ").properties(\n",
    "    title='Roxbury change in crime rates from 2017-2018'\n",
    ").add_params(\n",
    "    single_selection\n",
    ")\n",
    "\n",
    "# 2018 to 2019\n",
    "change_from_2018 = alt.Chart(change_2018_2019).mark_bar(point=False).encode(\n",
    "    x='CATEGORY',\n",
    "    y='Net Change',\n",
    "    color = alt.Color('Net Change', scale=alt.Scale(scheme=\"spectral\", reverse=True))\n",
    ").properties(\n",
    "    title='Roxbury change in crime rates from 2018-2019'\n",
    ").add_params(\n",
    "    single_selection\n",
    ")\n",
    "\n",
    "# 2019 to 2020\n",
    "change_from_2019 = alt.Chart(change_2019_2020).mark_bar(point=False).encode(\n",
    "    x='CATEGORY',\n",
    "    y='Net Change',\n",
    "    color = alt.Color('Net Change', scale=alt.Scale(scheme=\"spectral\", reverse=True))\n",
    ").properties(\n",
    "    title='Roxbury change in crime rates from 2019-2020'\n",
    ").add_params(\n",
    "    single_selection\n",
    ")\n",
    "\n",
    "# 2020 to 2021\n",
    "change_from_2020 = alt.Chart(change_2020_2021).mark_bar(point=False).encode(\n",
    "    x='CATEGORY',\n",
    "    y='Net Change',\n",
    "    color = alt.Color('Net Change', scale=alt.Scale(scheme=\"spectral\", reverse=True))\n",
    ").properties(\n",
    "    title='Roxbury change in crime rates from 2020-2021'\n",
    ").add_params(\n",
    "    single_selection\n",
    ")"
   ]
  },
  {
   "cell_type": "code",
   "execution_count": 67,
   "id": "a8199d61",
   "metadata": {},
   "outputs": [
    {
     "data": {
      "text/html": [
       "\n",
       "<div id=\"altair-viz-53371e9ba6c0477cac6dfb8d4245d4d8\"></div>\n",
       "<script type=\"text/javascript\">\n",
       "  var VEGA_DEBUG = (typeof VEGA_DEBUG == \"undefined\") ? {} : VEGA_DEBUG;\n",
       "  (function(spec, embedOpt){\n",
       "    let outputDiv = document.currentScript.previousElementSibling;\n",
       "    if (outputDiv.id !== \"altair-viz-53371e9ba6c0477cac6dfb8d4245d4d8\") {\n",
       "      outputDiv = document.getElementById(\"altair-viz-53371e9ba6c0477cac6dfb8d4245d4d8\");\n",
       "    }\n",
       "    const paths = {\n",
       "      \"vega\": \"https://cdn.jsdelivr.net/npm/vega@5?noext\",\n",
       "      \"vega-lib\": \"https://cdn.jsdelivr.net/npm/vega-lib?noext\",\n",
       "      \"vega-lite\": \"https://cdn.jsdelivr.net/npm/vega-lite@5.6.1?noext\",\n",
       "      \"vega-embed\": \"https://cdn.jsdelivr.net/npm/vega-embed@6?noext\",\n",
       "    };\n",
       "\n",
       "    function maybeLoadScript(lib, version) {\n",
       "      var key = `${lib.replace(\"-\", \"\")}_version`;\n",
       "      return (VEGA_DEBUG[key] == version) ?\n",
       "        Promise.resolve(paths[lib]) :\n",
       "        new Promise(function(resolve, reject) {\n",
       "          var s = document.createElement('script');\n",
       "          document.getElementsByTagName(\"head\")[0].appendChild(s);\n",
       "          s.async = true;\n",
       "          s.onload = () => {\n",
       "            VEGA_DEBUG[key] = version;\n",
       "            return resolve(paths[lib]);\n",
       "          };\n",
       "          s.onerror = () => reject(`Error loading script: ${paths[lib]}`);\n",
       "          s.src = paths[lib];\n",
       "        });\n",
       "    }\n",
       "\n",
       "    function showError(err) {\n",
       "      outputDiv.innerHTML = `<div class=\"error\" style=\"color:red;\">${err}</div>`;\n",
       "      throw err;\n",
       "    }\n",
       "\n",
       "    function displayChart(vegaEmbed) {\n",
       "      vegaEmbed(outputDiv, spec, embedOpt)\n",
       "        .catch(err => showError(`Javascript Error: ${err.message}<br>This usually means there's a typo in your chart specification. See the javascript console for the full traceback.`));\n",
       "    }\n",
       "\n",
       "    if(typeof define === \"function\" && define.amd) {\n",
       "      requirejs.config({paths});\n",
       "      require([\"vega-embed\"], displayChart, err => showError(`Error loading script: ${err.message}`));\n",
       "    } else {\n",
       "      maybeLoadScript(\"vega\", \"5\")\n",
       "        .then(() => maybeLoadScript(\"vega-lite\", \"5.6.1\"))\n",
       "        .then(() => maybeLoadScript(\"vega-embed\", \"6\"))\n",
       "        .catch(showError)\n",
       "        .then(() => displayChart(vegaEmbed));\n",
       "    }\n",
       "  })({\"config\": {\"view\": {\"continuousWidth\": 300, \"continuousHeight\": 300}}, \"hconcat\": [{\"data\": {\"name\": \"data-6a6478345300698a114f4d2fa52f8d27\"}, \"mark\": {\"type\": \"bar\", \"point\": false}, \"encoding\": {\"color\": {\"field\": \"Net Change\", \"scale\": {\"reverse\": true, \"scheme\": \"spectral\"}, \"type\": \"quantitative\"}, \"x\": {\"field\": \"CATEGORY\", \"type\": \"nominal\"}, \"y\": {\"field\": \"Net Change\", \"type\": \"quantitative\"}}, \"name\": \"view_5\", \"title\": \"Roxbury change in crime rates from 2015-2016\"}, {\"data\": {\"name\": \"data-3b96eb0641c769d0aff694e1c3255c4d\"}, \"mark\": {\"type\": \"bar\", \"point\": false}, \"encoding\": {\"color\": {\"field\": \"Net Change\", \"scale\": {\"reverse\": true, \"scheme\": \"spectral\"}, \"type\": \"quantitative\"}, \"x\": {\"field\": \"CATEGORY\", \"type\": \"nominal\"}, \"y\": {\"field\": \"Net Change\", \"type\": \"quantitative\"}}, \"name\": \"view_6\", \"title\": \"Roxbury change in crime rates from 2016-2017\"}, {\"data\": {\"name\": \"data-2d3e450b2a95a630189f2e5c1cd61279\"}, \"mark\": {\"type\": \"bar\", \"point\": false}, \"encoding\": {\"color\": {\"field\": \"Net Change\", \"scale\": {\"reverse\": true, \"scheme\": \"spectral\"}, \"type\": \"quantitative\"}, \"x\": {\"field\": \"CATEGORY\", \"type\": \"nominal\"}, \"y\": {\"field\": \"Net Change\", \"type\": \"quantitative\"}}, \"name\": \"view_7\", \"title\": \"Roxbury change in crime rates from 2017-2018\"}], \"params\": [{\"name\": \"param_1\", \"select\": {\"type\": \"point\"}, \"views\": [\"view_5\", \"view_6\", \"view_7\"]}], \"$schema\": \"https://vega.github.io/schema/vega-lite/v5.6.1.json\", \"datasets\": {\"data-6a6478345300698a114f4d2fa52f8d27\": [{\"CATEGORY\": \"Aggravated Assault\", \"Net Change\": 189.0}, {\"CATEGORY\": \"Auto Theft\", \"Net Change\": 143.0}, {\"CATEGORY\": \"Harassment\", \"Net Change\": 195.0}, {\"CATEGORY\": \"Homicide\", \"Net Change\": 6.0}, {\"CATEGORY\": \"Larceny\", \"Net Change\": 240.0}, {\"CATEGORY\": \"Missing Person Reported\", \"Net Change\": 98.0}, {\"CATEGORY\": \"Property Lost\", \"Net Change\": 181.0}, {\"CATEGORY\": \"Residential Burglary\", \"Net Change\": 89.0}, {\"CATEGORY\": \"Robbery\", \"Net Change\": 153.0}], \"data-3b96eb0641c769d0aff694e1c3255c4d\": [{\"CATEGORY\": \"Aggravated Assault\", \"Net Change\": -18.0}, {\"CATEGORY\": \"Auto Theft\", \"Net Change\": -13.0}, {\"CATEGORY\": \"Harassment\", \"Net Change\": 7.0}, {\"CATEGORY\": \"Homicide\", \"Net Change\": 0.0}, {\"CATEGORY\": \"Larceny\", \"Net Change\": 45.0}, {\"CATEGORY\": \"Missing Person Reported\", \"Net Change\": -47.0}, {\"CATEGORY\": \"Property Lost\", \"Net Change\": -30.0}, {\"CATEGORY\": \"Residential Burglary\", \"Net Change\": -81.0}, {\"CATEGORY\": \"Robbery\", \"Net Change\": -80.0}], \"data-2d3e450b2a95a630189f2e5c1cd61279\": [{\"CATEGORY\": \"Aggravated Assault\", \"Net Change\": 25.0}, {\"CATEGORY\": \"Auto Theft\", \"Net Change\": -35.0}, {\"CATEGORY\": \"Harassment\", \"Net Change\": -10.0}, {\"CATEGORY\": \"Homicide\", \"Net Change\": -1.0}, {\"CATEGORY\": \"Larceny\", \"Net Change\": -31.0}, {\"CATEGORY\": \"Missing Person Reported\", \"Net Change\": 1.0}, {\"CATEGORY\": \"Property Lost\", \"Net Change\": 166.0}, {\"CATEGORY\": \"Residential Burglary\", \"Net Change\": 27.0}, {\"CATEGORY\": \"Robbery\", \"Net Change\": -61.0}]}}, {\"mode\": \"vega-lite\"});\n",
       "</script>"
      ],
      "text/plain": [
       "alt.HConcatChart(...)"
      ]
     },
     "execution_count": 67,
     "metadata": {},
     "output_type": "execute_result"
    }
   ],
   "source": [
    "# the net change legend doesn't represent negative values\n",
    "change_from_2015 | change_from_2016 | change_from_2017"
   ]
  },
  {
   "cell_type": "code",
   "execution_count": 65,
   "id": "8dfc6628",
   "metadata": {},
   "outputs": [
    {
     "data": {
      "text/html": [
       "\n",
       "<div id=\"altair-viz-7ac3c3d4ca07477d97b6db8d48d5a050\"></div>\n",
       "<script type=\"text/javascript\">\n",
       "  var VEGA_DEBUG = (typeof VEGA_DEBUG == \"undefined\") ? {} : VEGA_DEBUG;\n",
       "  (function(spec, embedOpt){\n",
       "    let outputDiv = document.currentScript.previousElementSibling;\n",
       "    if (outputDiv.id !== \"altair-viz-7ac3c3d4ca07477d97b6db8d48d5a050\") {\n",
       "      outputDiv = document.getElementById(\"altair-viz-7ac3c3d4ca07477d97b6db8d48d5a050\");\n",
       "    }\n",
       "    const paths = {\n",
       "      \"vega\": \"https://cdn.jsdelivr.net/npm/vega@5?noext\",\n",
       "      \"vega-lib\": \"https://cdn.jsdelivr.net/npm/vega-lib?noext\",\n",
       "      \"vega-lite\": \"https://cdn.jsdelivr.net/npm/vega-lite@5.6.1?noext\",\n",
       "      \"vega-embed\": \"https://cdn.jsdelivr.net/npm/vega-embed@6?noext\",\n",
       "    };\n",
       "\n",
       "    function maybeLoadScript(lib, version) {\n",
       "      var key = `${lib.replace(\"-\", \"\")}_version`;\n",
       "      return (VEGA_DEBUG[key] == version) ?\n",
       "        Promise.resolve(paths[lib]) :\n",
       "        new Promise(function(resolve, reject) {\n",
       "          var s = document.createElement('script');\n",
       "          document.getElementsByTagName(\"head\")[0].appendChild(s);\n",
       "          s.async = true;\n",
       "          s.onload = () => {\n",
       "            VEGA_DEBUG[key] = version;\n",
       "            return resolve(paths[lib]);\n",
       "          };\n",
       "          s.onerror = () => reject(`Error loading script: ${paths[lib]}`);\n",
       "          s.src = paths[lib];\n",
       "        });\n",
       "    }\n",
       "\n",
       "    function showError(err) {\n",
       "      outputDiv.innerHTML = `<div class=\"error\" style=\"color:red;\">${err}</div>`;\n",
       "      throw err;\n",
       "    }\n",
       "\n",
       "    function displayChart(vegaEmbed) {\n",
       "      vegaEmbed(outputDiv, spec, embedOpt)\n",
       "        .catch(err => showError(`Javascript Error: ${err.message}<br>This usually means there's a typo in your chart specification. See the javascript console for the full traceback.`));\n",
       "    }\n",
       "\n",
       "    if(typeof define === \"function\" && define.amd) {\n",
       "      requirejs.config({paths});\n",
       "      require([\"vega-embed\"], displayChart, err => showError(`Error loading script: ${err.message}`));\n",
       "    } else {\n",
       "      maybeLoadScript(\"vega\", \"5\")\n",
       "        .then(() => maybeLoadScript(\"vega-lite\", \"5.6.1\"))\n",
       "        .then(() => maybeLoadScript(\"vega-embed\", \"6\"))\n",
       "        .catch(showError)\n",
       "        .then(() => displayChart(vegaEmbed));\n",
       "    }\n",
       "  })({\"config\": {\"view\": {\"continuousWidth\": 300, \"continuousHeight\": 300}}, \"hconcat\": [{\"data\": {\"name\": \"data-fe32c06729c472abb32fd6787895a0f4\"}, \"mark\": {\"type\": \"bar\", \"point\": false}, \"encoding\": {\"color\": {\"field\": \"Net Change\", \"scale\": {\"reverse\": true, \"scheme\": \"spectral\"}, \"type\": \"quantitative\"}, \"x\": {\"field\": \"CATEGORY\", \"type\": \"nominal\"}, \"y\": {\"field\": \"Net Change\", \"type\": \"quantitative\"}}, \"title\": \"Roxbury change in crime rates from 2018-2019\"}, {\"data\": {\"name\": \"data-2585c9a015a5c225628ce0613dd4e0c4\"}, \"mark\": {\"type\": \"bar\", \"point\": false}, \"encoding\": {\"color\": {\"field\": \"Net Change\", \"scale\": {\"reverse\": true, \"scheme\": \"spectral\"}, \"type\": \"quantitative\"}, \"x\": {\"field\": \"CATEGORY\", \"type\": \"nominal\"}, \"y\": {\"field\": \"Net Change\", \"type\": \"quantitative\"}}, \"title\": \"Roxbury change in crime rates from 2019-2020\"}, {\"data\": {\"name\": \"data-95ffa6c54c2567fa469b9c9bf7d6a34f\"}, \"mark\": {\"type\": \"bar\", \"point\": false}, \"encoding\": {\"color\": {\"field\": \"Net Change\", \"scale\": {\"reverse\": true, \"scheme\": \"spectral\"}, \"type\": \"quantitative\"}, \"x\": {\"field\": \"CATEGORY\", \"type\": \"nominal\"}, \"y\": {\"field\": \"Net Change\", \"type\": \"quantitative\"}}, \"title\": \"Roxbury change in crime rates from 2020-2021\"}], \"$schema\": \"https://vega.github.io/schema/vega-lite/v5.6.1.json\", \"datasets\": {\"data-fe32c06729c472abb32fd6787895a0f4\": [{\"CATEGORY\": \"Aggravated Assault\", \"Net Change\": -217.0}, {\"CATEGORY\": \"Auto Theft\", \"Net Change\": -57.0}, {\"CATEGORY\": \"Harassment\", \"Net Change\": -60.0}, {\"CATEGORY\": \"Homicide\", \"Net Change\": -8.0}, {\"CATEGORY\": \"Larceny\", \"Net Change\": 184.0}, {\"CATEGORY\": \"Missing Person Reported\", \"Net Change\": -57.0}, {\"CATEGORY\": \"Property Lost\", \"Net Change\": -34.0}, {\"CATEGORY\": \"Residential Burglary\", \"Net Change\": -54.0}, {\"CATEGORY\": \"Robbery\", \"Net Change\": -27.0}], \"data-2585c9a015a5c225628ce0613dd4e0c4\": [{\"CATEGORY\": \"Aggravated Assault\", \"Net Change\": -41.0}, {\"CATEGORY\": \"Auto Theft\", \"Net Change\": -42.0}, {\"CATEGORY\": \"Harassment\", \"Net Change\": -55.0}, {\"CATEGORY\": \"Homicide\", \"Net Change\": -2.0}, {\"CATEGORY\": \"Larceny\", \"Net Change\": -179.0}, {\"CATEGORY\": \"Missing Person Reported\", \"Net Change\": -24.0}, {\"CATEGORY\": \"Property Lost\", \"Net Change\": -83.0}, {\"CATEGORY\": \"Residential Burglary\", \"Net Change\": -30.0}, {\"CATEGORY\": \"Robbery\", \"Net Change\": -32.0}], \"data-95ffa6c54c2567fa469b9c9bf7d6a34f\": [{\"CATEGORY\": \"Aggravated Assault\", \"Net Change\": -36.0}, {\"CATEGORY\": \"Auto Theft\", \"Net Change\": -16.0}, {\"CATEGORY\": \"Harassment\", \"Net Change\": 9.0}, {\"CATEGORY\": \"Homicide\", \"Net Change\": 0.0}, {\"CATEGORY\": \"Larceny\", \"Net Change\": -52.0}, {\"CATEGORY\": \"Missing Person Reported\", \"Net Change\": -34.0}, {\"CATEGORY\": \"Property Lost\", \"Net Change\": -18.0}, {\"CATEGORY\": \"Residential Burglary\", \"Net Change\": 5.0}, {\"CATEGORY\": \"Robbery\", \"Net Change\": -20.0}]}}, {\"mode\": \"vega-lite\"});\n",
       "</script>"
      ],
      "text/plain": [
       "alt.HConcatChart(...)"
      ]
     },
     "execution_count": 65,
     "metadata": {},
     "output_type": "execute_result"
    }
   ],
   "source": [
    "change_from_2018 | change_from_2019 | change_from_2020"
   ]
  },
  {
   "cell_type": "code",
   "execution_count": 15,
   "id": "fd698ecf-2494-4f03-affc-0c7fe3f183c0",
   "metadata": {
    "tags": []
   },
   "outputs": [],
   "source": [
    "## So basically, I don't think a line chart is going to reflect change the way we want it to--but we can totally\n",
    "## create a series of visualizations like this from 2015->2022 which documents net changes in incidents over time\n",
    "## as well as a year-to-year growth if we manipulate our data in a different way. "
   ]
  }
 ],
 "metadata": {
  "kernelspec": {
   "display_name": "Python 3 (ipykernel)",
   "language": "python",
   "name": "python3"
  },
  "language_info": {
   "codemirror_mode": {
    "name": "ipython",
    "version": 3
   },
   "file_extension": ".py",
   "mimetype": "text/x-python",
   "name": "python",
   "nbconvert_exporter": "python",
   "pygments_lexer": "ipython3",
   "version": "3.11.1"
  }
 },
 "nbformat": 4,
 "nbformat_minor": 5
}

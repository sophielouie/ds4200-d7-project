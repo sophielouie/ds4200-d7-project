{
 "cells": [
  {
   "cell_type": "code",
   "execution_count": 2,
   "id": "6402fc6e-6152-4a4e-a740-b73d839a3a61",
   "metadata": {
    "scrolled": true,
    "tags": []
   },
   "outputs": [
    {
     "data": {
      "text/plain": [
       "DataTransformerRegistry.enable('default')"
      ]
     },
     "execution_count": 2,
     "metadata": {},
     "output_type": "execute_result"
    }
   ],
   "source": [
    "import pandas as pd\n",
    "import matplotlib.pyplot as plt\n",
    "import numpy as np\n",
    "import math\n",
    "import altair as alt\n",
    "import squarify\n",
    "import geopandas as gpd\n",
    "import json\n",
    "from collections import defaultdict\n",
    "alt.data_transformers.disable_max_rows()"
   ]
  },
  {
   "cell_type": "code",
   "execution_count": 3,
   "id": "3b0af21b-5658-4cb1-8394-307109da13e8",
   "metadata": {
    "tags": []
   },
   "outputs": [],
   "source": [
    "data_2022 = pd.read_csv(\"Data/2022.csv\", usecols=['INCIDENT_NUMBER', 'DISTRICT', 'CATEGORY'], dtype={'INCIDENT_NUMBER':str, 'DISTRICT':str, 'CATEGORY':str})\n",
    "rox_2022 = data_2022.loc[data_2022['DISTRICT'] == 'B2']\n",
    "fen_2022 = data_2022.loc[data_2022['DISTRICT'] == 'D4']\n",
    "downtown_2022 = data_2022.loc[data_2022['DISTRICT'] == 'A1']\n",
    "df_rox_2022 = rox_2022.groupby(['CATEGORY'])['INCIDENT_NUMBER'].count()\n",
    "df_rox_2022 = df_rox_2022.sort_values(ascending=False)\n",
    "df_rox_2022 = df_rox_2022.head(10)\n",
    "rox_values_2022_sorted = squarify.normalize_sizes(df_rox_2022, 1000, 1000)\n",
    "df_fen_2022 = fen_2022.groupby(['CATEGORY'])['INCIDENT_NUMBER'].count()\n",
    "df_fen_2022_sorted = df_fen_2022.sort_values(ascending=False)\n",
    "df_fen_2022 = df_fen_2022.head(10)\n",
    "fenway_values_2022_sorted = squarify.normalize_sizes(df_fen_2022, 1000, 1000)\n",
    "df_downtown_2022 = downtown_2022.groupby(['CATEGORY'])['INCIDENT_NUMBER'].count()\n",
    "df_downtown_2022_sorted = df_downtown_2022.sort_values(ascending=False)\n",
    "df_downtown_2022 = df_downtown_2022.head(10)\n",
    "downtown_values_2022_sorted = squarify.normalize_sizes(df_downtown_2022, 1000, 1000)"
   ]
  },
  {
   "cell_type": "code",
   "execution_count": 4,
   "id": "6c6c963c-308a-4027-8539-1e031832167c",
   "metadata": {
    "tags": []
   },
   "outputs": [],
   "source": [
    "rox_output_json = pd.DataFrame(squarify.padded_squarify(sizes=rox_values_2022_sorted, x=0, y=0, dx=1000, dy=1000))\n",
    "rox_output_json.insert(0, \"Incident Count\", df_rox_2022.array)\n",
    "rox_output_json.insert(0, \"Category\", df_rox_2022.keys())\n",
    "rox_output_json[\"x2\"] = rox_output_json[\"x\"] + rox_output_json[\"dx\"]\n",
    "rox_output_json[\"y2\"] = rox_output_json[\"y\"] + rox_output_json[\"dy\"]\n",
    "\n",
    "fen_output_json = pd.DataFrame(squarify.padded_squarify(sizes=fenway_values_2022_sorted, x=0, y=0, dx=1000, dy=1000))\n",
    "fen_output_json.insert(0, \"Incident Count\", df_fen_2022.array)\n",
    "fen_output_json.insert(0, \"Category\", df_fen_2022.keys())\n",
    "fen_output_json[\"x2\"] = fen_output_json[\"x\"] + fen_output_json[\"dx\"]\n",
    "fen_output_json[\"y2\"] = fen_output_json[\"y\"] + fen_output_json[\"dy\"]\n",
    "\n",
    "downtown_output_json = pd.DataFrame(squarify.padded_squarify(sizes=downtown_values_2022_sorted, x=0, y=0, dx=1000, dy=1000))\n",
    "downtown_output_json.insert(0, \"Incident Count\", df_downtown_2022.array)\n",
    "downtown_output_json.insert(0, \"Category\", df_downtown_2022.keys())\n",
    "downtown_output_json[\"x2\"] = downtown_output_json[\"x\"] + downtown_output_json[\"dx\"]\n",
    "downtown_output_json[\"y2\"] = downtown_output_json[\"y\"] + downtown_output_json[\"dy\"]\n"
   ]
  },
  {
   "cell_type": "markdown",
   "id": "17c6e8c9",
   "metadata": {},
   "source": [
    "# Treemap"
   ]
  },
  {
   "cell_type": "markdown",
   "id": "702f605b",
   "metadata": {},
   "source": [
    "### Roxbury"
   ]
  },
  {
   "cell_type": "code",
   "execution_count": 10,
   "id": "4eb9adb1-ce32-4d07-b84e-53f0e3997926",
   "metadata": {
    "tags": []
   },
   "outputs": [],
   "source": [
    "roxbury_treemap = alt.Chart(rox_output_json).mark_rect().encode(\n",
    "    x=alt.X('x:Q', axis=None),\n",
    "    x2='x2:Q',\n",
    "    y=alt.Y('y:Q', axis=None),\n",
    "    y2='y2:Q',\n",
    "    color=alt.Color('Incident Count:Q', scale=alt.Scale(scheme=\"blues\")),\n",
    "    tooltip=['Category:N', 'Incident Count:Q']\n",
    ").properties(\n",
    "    title='Ten Most Numerous Criminal Incidents, Roxbury 2023',\n",
    "    width=300,\n",
    "    height=300\n",
    ")\n",
    "roxbury_treemap.save('treemap_roxbury.html');"
   ]
  },
  {
   "cell_type": "markdown",
   "id": "5546164b",
   "metadata": {},
   "source": [
    "### Fenway"
   ]
  },
  {
   "cell_type": "code",
   "execution_count": 11,
   "id": "4cc4e3e8",
   "metadata": {},
   "outputs": [
    {
     "data": {
      "text/html": [
       "\n",
       "<div id=\"altair-viz-3c899bd3cd49433189c1be1be70d9af1\"></div>\n",
       "<script type=\"text/javascript\">\n",
       "  var VEGA_DEBUG = (typeof VEGA_DEBUG == \"undefined\") ? {} : VEGA_DEBUG;\n",
       "  (function(spec, embedOpt){\n",
       "    let outputDiv = document.currentScript.previousElementSibling;\n",
       "    if (outputDiv.id !== \"altair-viz-3c899bd3cd49433189c1be1be70d9af1\") {\n",
       "      outputDiv = document.getElementById(\"altair-viz-3c899bd3cd49433189c1be1be70d9af1\");\n",
       "    }\n",
       "    const paths = {\n",
       "      \"vega\": \"https://cdn.jsdelivr.net/npm//vega@5?noext\",\n",
       "      \"vega-lib\": \"https://cdn.jsdelivr.net/npm//vega-lib?noext\",\n",
       "      \"vega-lite\": \"https://cdn.jsdelivr.net/npm//vega-lite@4.17.0?noext\",\n",
       "      \"vega-embed\": \"https://cdn.jsdelivr.net/npm//vega-embed@6?noext\",\n",
       "    };\n",
       "\n",
       "    function maybeLoadScript(lib, version) {\n",
       "      var key = `${lib.replace(\"-\", \"\")}_version`;\n",
       "      return (VEGA_DEBUG[key] == version) ?\n",
       "        Promise.resolve(paths[lib]) :\n",
       "        new Promise(function(resolve, reject) {\n",
       "          var s = document.createElement('script');\n",
       "          document.getElementsByTagName(\"head\")[0].appendChild(s);\n",
       "          s.async = true;\n",
       "          s.onload = () => {\n",
       "            VEGA_DEBUG[key] = version;\n",
       "            return resolve(paths[lib]);\n",
       "          };\n",
       "          s.onerror = () => reject(`Error loading script: ${paths[lib]}`);\n",
       "          s.src = paths[lib];\n",
       "        });\n",
       "    }\n",
       "\n",
       "    function showError(err) {\n",
       "      outputDiv.innerHTML = `<div class=\"error\" style=\"color:red;\">${err}</div>`;\n",
       "      throw err;\n",
       "    }\n",
       "\n",
       "    function displayChart(vegaEmbed) {\n",
       "      vegaEmbed(outputDiv, spec, embedOpt)\n",
       "        .catch(err => showError(`Javascript Error: ${err.message}<br>This usually means there's a typo in your chart specification. See the javascript console for the full traceback.`));\n",
       "    }\n",
       "\n",
       "    if(typeof define === \"function\" && define.amd) {\n",
       "      requirejs.config({paths});\n",
       "      require([\"vega-embed\"], displayChart, err => showError(`Error loading script: ${err.message}`));\n",
       "    } else {\n",
       "      maybeLoadScript(\"vega\", \"5\")\n",
       "        .then(() => maybeLoadScript(\"vega-lite\", \"4.17.0\"))\n",
       "        .then(() => maybeLoadScript(\"vega-embed\", \"6\"))\n",
       "        .catch(showError)\n",
       "        .then(() => displayChart(vegaEmbed));\n",
       "    }\n",
       "  })({\"config\": {\"view\": {\"continuousWidth\": 400, \"continuousHeight\": 300}}, \"data\": {\"name\": \"data-841cc55b700c62a54602513742d6e032\"}, \"mark\": \"rect\", \"encoding\": {\"color\": {\"field\": \"Incident Count\", \"scale\": {\"scheme\": \"reds\"}, \"type\": \"quantitative\"}, \"tooltip\": [{\"field\": \"Category\", \"type\": \"nominal\"}, {\"field\": \"Incident Count\", \"type\": \"quantitative\"}], \"x\": {\"axis\": null, \"field\": \"x\", \"type\": \"quantitative\"}, \"x2\": {\"field\": \"x2\"}, \"y\": {\"axis\": null, \"field\": \"y\", \"type\": \"quantitative\"}, \"y2\": {\"field\": \"y2\"}}, \"height\": 300, \"title\": \"Ten Most Numerous Criminal Incidents, Fenway 2023\", \"width\": 300, \"$schema\": \"https://vega.github.io/schema/vega-lite/v4.17.0.json\", \"datasets\": {\"data-841cc55b700c62a54602513742d6e032\": [{\"Category\": \"Accidental Injury\", \"Incident Count\": 585, \"x\": 1.0, \"y\": 1.0, \"dx\": 376.7564766839378, \"dy\": 798.2735978112175, \"x2\": 377.7564766839378, \"y2\": 799.2735978112175}, {\"Category\": \"Alcohol & Narcotics\", \"Incident Count\": 146, \"x\": 1.0, \"y\": 801.2735978112175, \"dx\": 376.7564766839378, \"dy\": 197.7264021887825, \"x2\": 377.7564766839378, \"y2\": 999.0}, {\"Category\": \"Animal Related\", \"Incident Count\": 15, \"x\": 379.7564766839378, \"y\": 1.0, \"dx\": 488.45541314425964, \"dy\": 13.846538782318598, \"x2\": 868.2118898281974, \"y2\": 14.846538782318598}, {\"Category\": \"Arson\", \"Incident Count\": 4, \"x\": 870.2118898281974, \"y\": 1.0, \"dx\": 128.78811017180257, \"dy\": 13.846538782318598, \"x2\": 999.0, \"y2\": 14.846538782318598}, {\"Category\": \"Assault\", \"Incident Count\": 643, \"x\": 379.7564766839378, \"y\": 16.846538782318596, \"dx\": 619.2435233160622, \"dy\": 534.2802335279399, \"x2\": 999.0, \"y2\": 551.1267723102585}, {\"Category\": \"Auto Law Violation\", \"Incident Count\": 211, \"x\": 379.7564766839378, \"y\": 553.1267723102585, \"dx\": 242.10127266236333, \"dy\": 445.8732276897415, \"x2\": 621.8577493463011, \"y2\": 999.0}, {\"Category\": \"Auto Theft\", \"Incident Count\": 177, \"x\": 623.8577493463011, \"y\": 553.1267723102585, \"dx\": 375.1422506536989, \"dy\": 241.17043343890865, \"x2\": 999.0, \"y2\": 794.2972057491671}, {\"Category\": \"Breaking & Entering\", \"Incident Count\": 133, \"x\": 623.8577493463011, \"y\": 796.2972057491671, \"dx\": 334.6437539392075, \"dy\": 202.70279425083288, \"x2\": 958.5015032855086, \"y2\": 999.0}, {\"Category\": \"Child Requiring Assistance\", \"Incident Count\": 1, \"x\": 960.5015032855086, \"y\": 796.2972057491671, \"dx\": 38.49849671449141, \"dy\": 10.793924640676964, \"x2\": 999.0, \"y2\": 807.0911303898441}, {\"Category\": \"Extortion\", \"Incident Count\": 15, \"x\": 960.5015032855086, \"y\": 809.0911303898441, \"dx\": 38.49849671449141, \"dy\": 189.90886961015445, \"x2\": 999.0, \"y2\": 998.9999999999986}]}}, {\"mode\": \"vega-lite\"});\n",
       "</script>"
      ],
      "text/plain": [
       "alt.Chart(...)"
      ]
     },
     "execution_count": 11,
     "metadata": {},
     "output_type": "execute_result"
    }
   ],
   "source": [
    "fenway_treemap = alt.Chart(fen_output_json).mark_rect().encode(\n",
    "    x=alt.X('x:Q', axis=None),\n",
    "    x2='x2:Q',\n",
    "    y=alt.Y('y:Q', axis=None),\n",
    "    y2='y2:Q',\n",
    "    color=alt.Color('Incident Count:Q', scale=alt.Scale(scheme=\"reds\")),\n",
    "    tooltip=['Category:N', 'Incident Count:Q']\n",
    ").properties(\n",
    "    title='Ten Most Numerous Criminal Incidents, Fenway 2023',\n",
    "    width=300,\n",
    "    height=300\n",
    ")\n",
    "\n",
    "fenway_treemap.save('treemap_fenway.html')\n",
    "fenway_treemap"
   ]
  },
  {
   "cell_type": "markdown",
   "id": "90ee4cc5",
   "metadata": {},
   "source": [
    "### Downtown"
   ]
  },
  {
   "cell_type": "code",
   "execution_count": 12,
   "id": "e139ab5c",
   "metadata": {},
   "outputs": [
    {
     "data": {
      "text/html": [
       "\n",
       "<div id=\"altair-viz-bae60e87a9c649bf9e83a91ae152949e\"></div>\n",
       "<script type=\"text/javascript\">\n",
       "  var VEGA_DEBUG = (typeof VEGA_DEBUG == \"undefined\") ? {} : VEGA_DEBUG;\n",
       "  (function(spec, embedOpt){\n",
       "    let outputDiv = document.currentScript.previousElementSibling;\n",
       "    if (outputDiv.id !== \"altair-viz-bae60e87a9c649bf9e83a91ae152949e\") {\n",
       "      outputDiv = document.getElementById(\"altair-viz-bae60e87a9c649bf9e83a91ae152949e\");\n",
       "    }\n",
       "    const paths = {\n",
       "      \"vega\": \"https://cdn.jsdelivr.net/npm//vega@5?noext\",\n",
       "      \"vega-lib\": \"https://cdn.jsdelivr.net/npm//vega-lib?noext\",\n",
       "      \"vega-lite\": \"https://cdn.jsdelivr.net/npm//vega-lite@4.17.0?noext\",\n",
       "      \"vega-embed\": \"https://cdn.jsdelivr.net/npm//vega-embed@6?noext\",\n",
       "    };\n",
       "\n",
       "    function maybeLoadScript(lib, version) {\n",
       "      var key = `${lib.replace(\"-\", \"\")}_version`;\n",
       "      return (VEGA_DEBUG[key] == version) ?\n",
       "        Promise.resolve(paths[lib]) :\n",
       "        new Promise(function(resolve, reject) {\n",
       "          var s = document.createElement('script');\n",
       "          document.getElementsByTagName(\"head\")[0].appendChild(s);\n",
       "          s.async = true;\n",
       "          s.onload = () => {\n",
       "            VEGA_DEBUG[key] = version;\n",
       "            return resolve(paths[lib]);\n",
       "          };\n",
       "          s.onerror = () => reject(`Error loading script: ${paths[lib]}`);\n",
       "          s.src = paths[lib];\n",
       "        });\n",
       "    }\n",
       "\n",
       "    function showError(err) {\n",
       "      outputDiv.innerHTML = `<div class=\"error\" style=\"color:red;\">${err}</div>`;\n",
       "      throw err;\n",
       "    }\n",
       "\n",
       "    function displayChart(vegaEmbed) {\n",
       "      vegaEmbed(outputDiv, spec, embedOpt)\n",
       "        .catch(err => showError(`Javascript Error: ${err.message}<br>This usually means there's a typo in your chart specification. See the javascript console for the full traceback.`));\n",
       "    }\n",
       "\n",
       "    if(typeof define === \"function\" && define.amd) {\n",
       "      requirejs.config({paths});\n",
       "      require([\"vega-embed\"], displayChart, err => showError(`Error loading script: ${err.message}`));\n",
       "    } else {\n",
       "      maybeLoadScript(\"vega\", \"5\")\n",
       "        .then(() => maybeLoadScript(\"vega-lite\", \"4.17.0\"))\n",
       "        .then(() => maybeLoadScript(\"vega-embed\", \"6\"))\n",
       "        .catch(showError)\n",
       "        .then(() => displayChart(vegaEmbed));\n",
       "    }\n",
       "  })({\"config\": {\"view\": {\"continuousWidth\": 400, \"continuousHeight\": 300}}, \"data\": {\"name\": \"data-7c27ab3d640166afbd899f16236a8cd0\"}, \"mark\": \"rect\", \"encoding\": {\"color\": {\"field\": \"Incident Count\", \"scale\": {\"scheme\": \"greens\"}, \"type\": \"quantitative\"}, \"tooltip\": [{\"field\": \"Category\", \"type\": \"nominal\"}, {\"field\": \"Incident Count\", \"type\": \"quantitative\"}], \"x\": {\"axis\": null, \"field\": \"x\", \"type\": \"quantitative\"}, \"x2\": {\"field\": \"x2\"}, \"y\": {\"axis\": null, \"field\": \"y\", \"type\": \"quantitative\"}, \"y2\": {\"field\": \"y2\"}}, \"height\": 300, \"title\": \"Ten Most Numerous Criminal Incidents, Downtown 2023\", \"width\": 300, \"$schema\": \"https://vega.github.io/schema/vega-lite/v4.17.0.json\", \"datasets\": {\"data-7c27ab3d640166afbd899f16236a8cd0\": [{\"Category\": \"Accidental Injury\", \"Incident Count\": 439, \"x\": 1.0, \"y\": 1.0, \"dx\": 386.560157790927, \"dy\": 555.1065989847716, \"x2\": 387.560157790927, \"y2\": 556.1065989847716}, {\"Category\": \"Alcohol & Narcotics\", \"Incident Count\": 349, \"x\": 1.0, \"y\": 558.1065989847716, \"dx\": 386.560157790927, \"dy\": 440.89340101522845, \"x2\": 387.560157790927, \"y2\": 999.0}, {\"Category\": \"Animal Related\", \"Incident Count\": 11, \"x\": 389.560157790927, \"y\": 1.0, \"dx\": 558.4865220249835, \"dy\": 7.67741935483871, \"x2\": 948.0466798159105, \"y2\": 8.67741935483871}, {\"Category\": \"Arson\", \"Incident Count\": 1, \"x\": 950.0466798159105, \"y\": 1.0, \"dx\": 48.953320184089414, \"dy\": 7.67741935483871, \"x2\": 998.9999999999999, \"y2\": 8.67741935483871}, {\"Category\": \"Assault\", \"Incident Count\": 781, \"x\": 389.560157790927, \"y\": 10.67741935483871, \"dx\": 609.439842209073, \"dy\": 627.8387096774193, \"x2\": 999.0, \"y2\": 638.5161290322579}, {\"Category\": \"Auto Law Violation\", \"Incident Count\": 217, \"x\": 389.560157790927, \"y\": 640.5161290322579, \"dx\": 294.8287377167087, \"dy\": 358.48387096774206, \"x2\": 684.3888955076357, \"y2\": 999.0}, {\"Category\": \"Auto Theft\", \"Incident Count\": 118, \"x\": 686.3888955076357, \"y\": 640.5161290322579, \"dx\": 312.61110449236435, \"dy\": 182.9438990182327, \"x2\": 999.0, \"y2\": 823.4600280504907}, {\"Category\": \"Breaking & Entering\", \"Incident Count\": 100, \"x\": 686.3888955076357, \"y\": 825.4600280504907, \"dx\": 278.9027718681819, \"dy\": 173.53997194950938, \"x2\": 965.2916673758175, \"y2\": 999.0}, {\"Category\": \"Child Requiring Assistance\", \"Incident Count\": 1, \"x\": 967.2916673758175, \"y\": 825.4600280504907, \"dx\": 31.708332624182447, \"dy\": 12.62833099579218, \"x2\": 999.0, \"y2\": 838.0883590462829}, {\"Category\": \"Extortion\", \"Incident Count\": 11, \"x\": 967.2916673758175, \"y\": 840.0883590462829, \"dx\": 31.708332624182447, \"dy\": 158.91164095371397, \"x2\": 999.0, \"y2\": 998.9999999999968}]}}, {\"mode\": \"vega-lite\"});\n",
       "</script>"
      ],
      "text/plain": [
       "alt.Chart(...)"
      ]
     },
     "execution_count": 12,
     "metadata": {},
     "output_type": "execute_result"
    }
   ],
   "source": [
    "downtown_treemap = alt.Chart(downtown_output_json).mark_rect().encode(\n",
    "    x=alt.X('x:Q', axis=None),\n",
    "    x2='x2:Q',\n",
    "    y=alt.Y('y:Q', axis=None),\n",
    "    y2='y2:Q',\n",
    "    color=alt.Color('Incident Count:Q', scale=alt.Scale(scheme=\"greens\")),\n",
    "    tooltip=['Category:N', 'Incident Count:Q']\n",
    ").properties(\n",
    "    title='Ten Most Numerous Criminal Incidents, Downtown 2023',\n",
    "    width=300,\n",
    "    height=300\n",
    ")\n",
    "downtown_treemap.save('treemap_downtown.html')\n",
    "downtown_treemap"
   ]
  },
  {
   "cell_type": "markdown",
   "id": "4b46b726",
   "metadata": {},
   "source": [
    "# Choropleth Map + Bar Chart"
   ]
  },
  {
   "cell_type": "code",
   "execution_count": 16,
   "id": "c39f3dd0-619d-4cd3-8d5a-4a68203b9e58",
   "metadata": {
    "tags": []
   },
   "outputs": [
    {
     "name": "stderr",
     "output_type": "stream",
     "text": [
      "/home/noahnewmanmack/.local/lib/python3.10/site-packages/pyproj/crs/crs.py:141: FutureWarning: '+init=<authority>:<code>' syntax is deprecated. '<authority>:<code>' is the preferred initialization method. When making the change, be mindful of axis order changes: https://pyproj4.github.io/pyproj/stable/gotchas.html#axis-order-changes-in-proj-6\n",
      "  in_crs_string = _prepare_from_proj_string(in_crs_string)\n",
      "/home/noahnewmanmack/.local/lib/python3.10/site-packages/pyproj/crs/crs.py:141: FutureWarning: '+init=<authority>:<code>' syntax is deprecated. '<authority>:<code>' is the preferred initialization method. When making the change, be mindful of axis order changes: https://pyproj4.github.io/pyproj/stable/gotchas.html#axis-order-changes-in-proj-6\n",
      "  in_crs_string = _prepare_from_proj_string(in_crs_string)\n"
     ]
    }
   ],
   "source": [
    "capital_plan = pd.read_excel('Data/capital_data.xlsx')\n",
    "boston_map = gpd.read_file(\"Data/city-council-districts.geojson\")\n",
    "\n",
    "single_selection = alt.selection_multi()\n",
    "\n",
    "## bugfix taken from https://github.com/altair-viz/altair/issues/1612\n",
    "boston_map.crs = {'init' :'epsg:27700'}\n",
    "boston_map = boston_map.to_crs({'init': 'epsg:4326'})\n",
    "choro_json = json.loads(boston_map.to_json())\n",
    "boston_chart = alt.Chart(boston_map).mark_geoshape(\n",
    "    strokeWidth=1,\n",
    "    fill='none',\n",
    "    fillOpacity=0,\n",
    "    stroke='black'\n",
    ").encode().properties(\n",
    "    width=800,\n",
    "    height=800\n",
    ")\n",
    "\n",
    "neighborhoods_map = gpd.read_file(\"Data/boston-neighborhoods.geojson\");\n",
    "neighborhoods_map[\"Neighborhood\"] = neighborhoods_map[\"Name\"]\n",
    "all_data = neighborhoods_map.merge(capital_plan, how = \"left\", on=\"Neighborhood\")\n",
    "\n",
    "all_data.crs = {'init' :'epsg:27700'}\n",
    "all_data = all_data.to_crs({'init': 'epsg:4326'})\n",
    "choro_json = json.loads(all_data.to_json())\n",
    "neighborhoods_chart = alt.Chart(all_data\n",
    ").mark_geoshape(\n",
    "    stroke='black',\n",
    "    strokeWidth=.2,\n",
    ").encode(\n",
    "    color=alt.condition(single_selection, 'Funding:Q', alt.value('lightgray'), scale=alt.Scale(scheme = 'plasma')),\n",
    "    tooltip = ['Name:N', alt.Tooltip('Funding:Q', format=\"$,.2f\")]\n",
    ").properties(\n",
    "    width=500,\n",
    "    height=500\n",
    ").add_selection(\n",
    "    single_selection\n",
    ");\n",
    "\n",
    "base = alt.Chart(all_data).mark_bar().encode(\n",
    "    x='Neighborhood',\n",
    "    y='Funding:Q',\n",
    ").encode(\n",
    "    color=alt.condition(single_selection, 'Funding:Q', alt.value('lightgray'), scale=alt.Scale(scheme = 'plasma')),\n",
    "    tooltip=alt.Tooltip(\"Funding\", format=\"$,.2f\"),\n",
    ").properties(\n",
    "    width=300,\n",
    "    height=300\n",
    ").add_selection(single_selection);"
   ]
  },
  {
   "cell_type": "code",
   "execution_count": 17,
   "id": "937e0c1d-34f8-45a9-8e3e-5f3ade51908b",
   "metadata": {
    "scrolled": false,
    "tags": []
   },
   "outputs": [],
   "source": [
    "alt.hconcat(neighborhoods_chart, base).properties(title=\"Boston Districts by Total Budget\").save('vis2.html')"
   ]
  },
  {
   "cell_type": "markdown",
   "id": "d1c35255",
   "metadata": {},
   "source": [
    "# Line Chart + Grouped Bar Chart"
   ]
  },
  {
   "cell_type": "code",
   "execution_count": 12,
   "id": "32a0b361",
   "metadata": {
    "scrolled": false
   },
   "outputs": [
    {
     "name": "stderr",
     "output_type": "stream",
     "text": [
      "/tmp/ipykernel_4559/3774374797.py:3: FutureWarning: In a future version of pandas all arguments of DataFrame.dropna will be keyword-only.\n",
      "  crime = crime.dropna(1, how = \"any\")\n"
     ]
    }
   ],
   "source": [
    "crime = pd.read_excel(\"Data/crime_changes.xlsx\")\n",
    "crime = crime.head(63)\n",
    "crime = crime.dropna(1, how = \"any\")\n",
    "\n",
    "selector = alt.selection_interval(encodings=['x'])\n",
    "\n",
    "base = alt.Chart(crime).mark_line().encode(\n",
    "    x = \"Year:O\",\n",
    "    y = alt.Y(\"Count\", axis = alt.Axis(title = \"Number of calls\")),\n",
    "    color = alt.Color(\"Offense\"),\n",
    ").properties(\n",
    "    title = \"Number of calls made to Boston Police in Roxbury by offense, 2015-2021\",\n",
    "    width = 400\n",
    "            ).transform_filter(selector)\n",
    "\n",
    "scatter = alt.Chart(crime).mark_point().encode(\n",
    "    x = \"Year:O\",\n",
    "    y = \"Count\",\n",
    "    color = alt.Color(\"Offense\", legend=alt.Legend(\n",
    "        orient='left',\n",
    "        direction='vertical',\n",
    "        titleAnchor='middle'))\n",
    ").properties(\n",
    "    width = 400).add_selection(selector)\n",
    "\n",
    "bar = alt.Chart(crime, title = \"Percentage change in offense type year-to-year\").mark_bar().encode(\n",
    "    x = \"Year:O\",\n",
    "    y = alt.Y(\"Year-to-year percentage change\", axis = alt.Axis(title = \"Year-to-year percentage change (%)\"), scale = alt.Scale(domain=(-100, 500))),\n",
    "    column = \"Offense\",\n",
    "    color = \"Offense\",\n",
    "    tooltip = [\"Year\", \"Year-to-year percentage change\"]\n",
    ").transform_filter(selector).properties(\n",
    "    width = 68)\n",
    "\n",
    "\n",
    "alt.vconcat(base + scatter, bar).save('vis3.html')"
   ]
  }
 ],
 "metadata": {
  "kernelspec": {
   "display_name": "Python 3.10.7 64-bit",
   "language": "python",
   "name": "python3"
  },
  "language_info": {
   "codemirror_mode": {
    "name": "ipython",
    "version": 3
   },
   "file_extension": ".py",
   "mimetype": "text/x-python",
   "name": "python",
   "nbconvert_exporter": "python",
   "pygments_lexer": "ipython3",
   "version": "3.10.7"
  },
  "vscode": {
   "interpreter": {
    "hash": "916dbcbb3f70747c44a77c7bcd40155683ae19c65e1c03b4aa3499c5328201f1"
   }
  }
 },
 "nbformat": 4,
 "nbformat_minor": 5
}
